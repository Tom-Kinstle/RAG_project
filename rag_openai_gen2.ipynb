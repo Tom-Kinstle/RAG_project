{
 "cells": [
  {
   "cell_type": "markdown",
   "id": "6e0ec4d7",
   "metadata": {},
   "source": [
    "# Proelections RAG System - Enhanced with Chroma and Groq\n",
    "This system extracts text from PDFs, embeds document chunks into vector space using HuggingFace E5, stores/retrieves via Chroma, and optionally generates answers using OpenAI.\n"
   ]
  },
  {
   "cell_type": "markdown",
   "id": "67bd2276",
   "metadata": {},
   "source": [
    "# Import Libraries"
   ]
  },
  {
   "cell_type": "code",
   "execution_count": 1,
   "id": "c2341e39",
   "metadata": {},
   "outputs": [],
   "source": [
    "from langchain.vectorstores import Chroma\n",
    "from langchain_huggingface import HuggingFaceEmbeddings\n",
    "from langchain.schema import Document\n",
    "from langchain.text_splitter import RecursiveCharacterTextSplitter\n",
    "import torch\n",
    "import os\n",
    "import glob\n",
    "from typing import List, Dict, Any\n",
    "import PyPDF2\n",
    "import pdfplumber\n",
    "from pathlib import Path\n",
    "from groq import Groq"
   ]
  },
  {
   "cell_type": "markdown",
   "id": "d1c7605c",
   "metadata": {},
   "source": [
    "# Configuration"
   ]
  },
  {
   "cell_type": "code",
   "execution_count": null,
   "id": "f3624bad",
   "metadata": {},
   "outputs": [],
   "source": [
    "GROQ_API_KEY = \"OPENAI_API_KEY\"  # You'll need to get this from https://console.groq.com/\n",
    "\n",
    "# Initialize Groq client\n",
    "client = Groq(api_key=GROQ_API_KEY)\n",
    "\n",
    "# Local PDF directory\n",
    "PDF_DIRECTORY = r\"C:\\Users\\default.LAPTOP-4HP0OBME\\OneDrive\\Documents\\GitHub\\RAG\\pro_elect\\OneDriv\"\n",
    "\n",
    "# Chroma database directory\n",
    "CHROMA_DB_DIR = \"./chroma_db\"\n",
    "\n",
    "# Chunk configs\n",
    "CHUNK_CONFIGS = {\n",
    "    \"default\": {\"size\": 800, \"overlap\": 200},\n",
    "    \"small\": {\"size\": 400, \"overlap\": 100},\n",
    "    \"large\": {\"size\": 1200, \"overlap\": 300}\n",
    "}\n"
   ]
  },
  {
   "cell_type": "markdown",
   "id": "b50e473d",
   "metadata": {},
   "source": [
    "# Embedding Model Setup"
   ]
  },
  {
   "cell_type": "code",
   "execution_count": 3,
   "id": "0d13512d",
   "metadata": {},
   "outputs": [],
   "source": [
    "def setup_embedding_model(silent: bool = False):\n",
    "    device = \"cuda\" if torch.cuda.is_available() else \"cpu\"\n",
    "    if not silent:\n",
    "        print(f\"🖥️ Using device: {device}\")\n",
    "    try:\n",
    "        return HuggingFaceEmbeddings(\n",
    "            model_name=\"intfloat/e5-base-v2\",\n",
    "            model_kwargs={\"device\": device},\n",
    "            encode_kwargs={\"normalize_embeddings\": True, \"batch_size\": 32}\n",
    "        )\n",
    "    except Exception as e:\n",
    "        print(f\"Error loading E5: {e}\")\n",
    "        return None"
   ]
  },
  {
   "cell_type": "markdown",
   "id": "2ca193b1",
   "metadata": {},
   "source": [
    "# PDF Text Extraction"
   ]
  },
  {
   "cell_type": "code",
   "execution_count": 4,
   "id": "34689c58",
   "metadata": {},
   "outputs": [],
   "source": [
    "def extract_text_from_pdf(pdf_path: str) -> str:\n",
    "    \"\"\"Extract text from PDF using pdfplumber as primary method, PyPDF2 as fallback.\"\"\"\n",
    "    text = \"\"\n",
    "    \n",
    "    try:\n",
    "        # Try pdfplumber first (better text extraction)\n",
    "        with pdfplumber.open(pdf_path) as pdf:\n",
    "            for page in pdf.pages:\n",
    "                page_text = page.extract_text()\n",
    "                if page_text:\n",
    "                    text += page_text + \"\\n\"\n",
    "    except Exception as e:\n",
    "        print(f\"pdfplumber failed for {pdf_path}, trying PyPDF2: {e}\")\n",
    "        \n",
    "        # Fallback to PyPDF2\n",
    "        try:\n",
    "            with open(pdf_path, 'rb') as file:\n",
    "                pdf_reader = PyPDF2.PdfReader(file)\n",
    "                for page in pdf_reader.pages:\n",
    "                    text += page.extract_text() + \"\\n\"\n",
    "        except Exception as e2:\n",
    "            print(f\"PyPDF2 also failed for {pdf_path}: {e2}\")\n",
    "            return \"\"\n",
    "    \n",
    "    return text.strip()\n",
    "\n",
    "def find_and_process_pdfs(directory: str) -> List[Dict[str, str]]:\n",
    "    \"\"\"Recursively find all PDF files and extract their text.\"\"\"\n",
    "    pdf_files = []\n",
    "    \n",
    "    if not os.path.exists(directory):\n",
    "        print(f\"Directory not found: {directory}\")\n",
    "        return pdf_files\n",
    "    \n",
    "    # Recursively find all PDF files\n",
    "    for pdf_path in glob.glob(os.path.join(directory, \"**/*.pdf\"), recursive=True):\n",
    "        print(f\"Processing: {pdf_path}\")\n",
    "        text = extract_text_from_pdf(pdf_path)\n",
    "        \n",
    "        if text:\n",
    "            pdf_files.append({\n",
    "                \"filename\": os.path.basename(pdf_path),\n",
    "                \"full_path\": pdf_path,\n",
    "                \"text\": text\n",
    "            })\n",
    "        else:\n",
    "            print(f\"No text extracted from: {pdf_path}\")\n",
    "    \n",
    "    print(f\"Successfully processed {len(pdf_files)} PDF files\")\n",
    "    return pdf_files"
   ]
  },
  {
   "cell_type": "markdown",
   "id": "b3c6bc65",
   "metadata": {},
   "source": [
    "# Document Processing and Chunking"
   ]
  },
  {
   "cell_type": "code",
   "execution_count": 5,
   "id": "b9a52f90",
   "metadata": {},
   "outputs": [],
   "source": [
    "def prepare_documents_enhanced(text: str, source_filename: str, chunk_size: int, chunk_overlap: int) -> List[Document]:\n",
    "    \"\"\"Clean and chunk documents with enhanced metadata.\"\"\"\n",
    "    \n",
    "    if not text.strip():\n",
    "        return []\n",
    "\n",
    "    splitter = RecursiveCharacterTextSplitter(\n",
    "        chunk_size=chunk_size,\n",
    "        chunk_overlap=chunk_overlap,\n",
    "        separators=[\"\\n=== \", \"\\nARTICLE \", \"\\nSECTION \", \"\\n\\n\", \"\\n\", \". \", \" \"],\n",
    "        length_function=len,\n",
    "        is_separator_regex=False,\n",
    "    )\n",
    "\n",
    "    raw_docs = splitter.create_documents([text])\n",
    "    enhanced_docs = []\n",
    "\n",
    "    for i, doc in enumerate(raw_docs):\n",
    "        content = doc.page_content.lower()\n",
    "        metadata = {\n",
    "            \"source_file\": source_filename,\n",
    "            \"chunk_id\": i,\n",
    "            \"chunk_size\": len(doc.page_content),\n",
    "            \"has_voting\": any(t in content for t in [\"vote\", \"ballot\", \"election\", \"poll\", \"voting\", \"electoral\"]),\n",
    "            \"has_proxy\": \"proxy\" in content,\n",
    "            \"has_director\": any(t in content for t in [\"director\", \"board\", \"officer\", \"president\", \"secretary\", \"treasurer\"]),\n",
    "            \"has_quorum\": \"quorum\" in content,\n",
    "            \"has_notice\": any(t in content for t in [\"notice\", \"notification\", \"notify\", \"inform\"]),\n",
    "            \"has_meeting\": any(t in content for t in [\"meeting\", \"assembly\", \"session\", \"gathering\"]),\n",
    "        }\n",
    "        enhanced_docs.append(Document(page_content=doc.page_content, metadata=metadata))\n",
    "\n",
    "    return enhanced_docs"
   ]
  },
  {
   "cell_type": "markdown",
   "id": "080b0690",
   "metadata": {},
   "source": [
    "# Vector Store Initialization (Chroma)"
   ]
  },
  {
   "cell_type": "code",
   "execution_count": 6,
   "id": "9e336f38",
   "metadata": {},
   "outputs": [],
   "source": [
    "def initialize_chroma_db(documents: List[Document], embedding_model, persist_directory: str = CHROMA_DB_DIR):\n",
    "    \"\"\"Initialize Chroma vector store with documents.\"\"\"\n",
    "    \n",
    "    if not documents:\n",
    "        print(\"No documents to index\")\n",
    "        return None\n",
    "    \n",
    "    try:\n",
    "        # Create Chroma vector store\n",
    "        vector_store = Chroma.from_documents(\n",
    "            documents=documents,\n",
    "            embedding=embedding_model,\n",
    "            persist_directory=persist_directory\n",
    "        )\n",
    "        \n",
    "        # Persist the database\n",
    "        vector_store.persist()\n",
    "        print(f\"Indexed {len(documents)} document chunks in Chroma DB\")\n",
    "        \n",
    "        return vector_store\n",
    "        \n",
    "    except Exception as e:\n",
    "        print(f\"Error initializing Chroma DB: {e}\")\n",
    "        return None\n",
    "\n",
    "def load_existing_chroma_db(embedding_model, persist_directory: str = CHROMA_DB_DIR):\n",
    "    \"\"\"Load existing Chroma vector store.\"\"\"\n",
    "    \n",
    "    try:\n",
    "        vector_store = Chroma(\n",
    "            persist_directory=persist_directory,\n",
    "            embedding_function=embedding_model\n",
    "        )\n",
    "        return vector_store\n",
    "    except Exception as e:\n",
    "        print(f\"Error loading existing Chroma DB: {e}\")\n",
    "        return None"
   ]
  },
  {
   "cell_type": "markdown",
   "id": "565965ab",
   "metadata": {},
   "source": [
    "Groq Answer Generation"
   ]
  },
  {
   "cell_type": "code",
   "execution_count": 7,
   "id": "abdfb5cb",
   "metadata": {},
   "outputs": [],
   "source": [
    "def generate_answer_with_groq(question: str, retrieved_chunks: List[Document]) -> Dict[str, Any]:\n",
    "    \"\"\"Generate answer using Groq based on retrieved chunks.\"\"\"\n",
    "    \n",
    "    if not retrieved_chunks:\n",
    "        return {\"error\": \"No relevant chunks found\"}\n",
    "    \n",
    "    # Construct context from retrieved chunks\n",
    "    context_parts = []\n",
    "    for i, chunk in enumerate(retrieved_chunks):\n",
    "        source_file = chunk.metadata.get('source_file', 'Unknown')\n",
    "        context_parts.append(f\"[Source {i+1}: {source_file}]\\n{chunk.page_content}\\n\")\n",
    "    \n",
    "    context = \"\\n\".join(context_parts)\n",
    "    \n",
    "    # Create prompt for Groq\n",
    "    prompt = f\"\"\"You are an expert assistant helping with document analysis. Based on the provided context from various documents, please answer the user's question accurately and comprehensively.\n",
    "\n",
    "Context from documents:\n",
    "{context}\n",
    "\n",
    "User Question: {question}\n",
    "\n",
    "Please provide a detailed answer based on the context above. If the context doesn't contain enough information to fully answer the question, please mention what information is available and what might be missing. Always cite which source document(s) you're referencing in your answer.\n",
    "\n",
    "Answer:\"\"\"\n",
    "    \n",
    "    try:\n",
    "        # Groq API call (same format as OpenAI but faster and free!)\n",
    "        response = client.chat.completions.create(\n",
    "            model=\"llama3-8b-8192\",  # Fast and capable model\n",
    "            messages=[\n",
    "                {\"role\": \"system\", \"content\": \"You are a helpful assistant that analyzes documents and provides accurate, well-sourced answers.\"},\n",
    "                {\"role\": \"user\", \"content\": prompt}\n",
    "            ],\n",
    "            max_tokens=1000,\n",
    "            temperature=0.3\n",
    "        )\n",
    "        \n",
    "        answer = response.choices[0].message.content.strip()\n",
    "        \n",
    "        return {\n",
    "            \"answer\": answer,\n",
    "            \"sources\": [chunk.metadata.get('source_file', 'Unknown') for chunk in retrieved_chunks],\n",
    "            \"num_chunks_used\": len(retrieved_chunks)\n",
    "        }\n",
    "        \n",
    "    except Exception as e:\n",
    "        return {\"error\": f\"Groq API error: {str(e)}\"}"
   ]
  },
  {
   "cell_type": "markdown",
   "id": "576d7767",
   "metadata": {},
   "source": [
    "# Main RAG Query Function"
   ]
  },
  {
   "cell_type": "code",
   "execution_count": 8,
   "id": "8d5f9b37",
   "metadata": {},
   "outputs": [],
   "source": [
    "def query_rag_system(question: str, vector_store=None, k: int = 3, use_groq: bool = True) -> Dict[str, Any]:\n",
    "    \"\"\"Main RAG query function that accepts any user question.\"\"\"\n",
    "    \n",
    "    if vector_store is None:\n",
    "        return {\"error\": \"Vector store not initialized\"}\n",
    "    \n",
    "    if not question.strip():\n",
    "        return {\"error\": \"Empty question provided\"}\n",
    "    \n",
    "    try:\n",
    "        # Retrieve relevant chunks using Chroma\n",
    "        results_with_scores = vector_store.similarity_search_with_score(question, k=k)\n",
    "        \n",
    "        if not results_with_scores:\n",
    "            return {\"error\": \"No relevant documents found\"}\n",
    "        \n",
    "        # Extract documents and scores\n",
    "        retrieved_docs = [doc for doc, score in results_with_scores]\n",
    "        similarity_scores = [1.0 - score for doc, score in results_with_scores]  # Convert distance to similarity\n",
    "        \n",
    "        # Generate answer using Groq if requested\n",
    "        if use_groq:\n",
    "            ai_response = generate_answer_with_groq(question, retrieved_docs)\n",
    "            if \"error\" in ai_response:\n",
    "                return ai_response\n",
    "            \n",
    "            return {\n",
    "                \"question\": question,\n",
    "                \"ai_answer\": ai_response[\"answer\"],\n",
    "                \"sources\": ai_response[\"sources\"],\n",
    "                \"similarity_scores\": similarity_scores,\n",
    "                \"retrieved_chunks\": [doc.page_content[:200] + \"...\" for doc in retrieved_docs],\n",
    "                \"num_chunks\": len(retrieved_docs)\n",
    "            }\n",
    "        else:\n",
    "            # Return raw chunks without Groq processing\n",
    "            return {\n",
    "                \"question\": question,\n",
    "                \"similarity_scores\": similarity_scores,\n",
    "                \"retrieved_chunks\": [doc.page_content for doc in retrieved_docs],\n",
    "                \"sources\": [doc.metadata.get('source_file', 'Unknown') for doc in retrieved_docs],\n",
    "                \"num_chunks\": len(retrieved_docs)\n",
    "            }\n",
    "            \n",
    "    except Exception as e:\n",
    "        return {\"error\": f\"Query error: {str(e)}\"}\n"
   ]
  },
  {
   "cell_type": "markdown",
   "id": "cb1ac1bd",
   "metadata": {},
   "source": [
    "# System Setup Function"
   ]
  },
  {
   "cell_type": "code",
   "execution_count": 9,
   "id": "dad43aa9",
   "metadata": {},
   "outputs": [],
   "source": [
    "def setup_rag_system(chunk_config: str = \"default\", force_rebuild: bool = False):\n",
    "    \"\"\"Initialize the complete RAG system.\"\"\"\n",
    "    \n",
    "    print(\"🚀 Initializing RAG System...\")\n",
    "    \n",
    "    # Setup embedding model\n",
    "    embedding_model = setup_embedding_model()\n",
    "    if embedding_model is None:\n",
    "        return None, None\n",
    "    \n",
    "    # Check if we should rebuild or load existing database\n",
    "    if force_rebuild or not os.path.exists(CHROMA_DB_DIR):\n",
    "        print(\"📚 Processing PDF files...\")\n",
    "        \n",
    "        # Find and process PDF files\n",
    "        pdf_data = find_and_process_pdfs(PDF_DIRECTORY)\n",
    "        \n",
    "        if not pdf_data:\n",
    "            print(\"❌ No PDF files found or processed\")\n",
    "            return None, None\n",
    "        \n",
    "        # Prepare documents with chunking\n",
    "        all_documents = []\n",
    "        chunk_size = CHUNK_CONFIGS[chunk_config][\"size\"]\n",
    "        chunk_overlap = CHUNK_CONFIGS[chunk_config][\"overlap\"]\n",
    "        \n",
    "        for pdf_info in pdf_data:\n",
    "            docs = prepare_documents_enhanced(\n",
    "                pdf_info[\"text\"], \n",
    "                pdf_info[\"filename\"], \n",
    "                chunk_size, \n",
    "                chunk_overlap\n",
    "            )\n",
    "            all_documents.extend(docs)\n",
    "        \n",
    "        print(f\"📄 Created {len(all_documents)} document chunks\")\n",
    "        \n",
    "        # Initialize Chroma database\n",
    "        vector_store = initialize_chroma_db(all_documents, embedding_model)\n",
    "        \n",
    "    else:\n",
    "        print(\"📁 Loading existing Chroma database...\")\n",
    "        vector_store = load_existing_chroma_db(embedding_model)\n",
    "    \n",
    "    if vector_store is None:\n",
    "        print(\"❌ Failed to initialize vector store\")\n",
    "        return None, None\n",
    "    \n",
    "    print(\"✅ RAG System ready!\")\n",
    "    return vector_store, embedding_model"
   ]
  },
  {
   "cell_type": "markdown",
   "id": "9d47a552",
   "metadata": {},
   "source": [
    "# Interactive Query Function"
   ]
  },
  {
   "cell_type": "code",
   "execution_count": 10,
   "id": "c91d05a9",
   "metadata": {},
   "outputs": [],
   "source": [
    "def ask_question(question: str, detailed: bool = False):\n",
    "    \"\"\"Convenient function to ask questions and get formatted responses.\"\"\"\n",
    "    \n",
    "    if 'vector_store' not in globals() or vector_store is None:\n",
    "        print(\"❌ Vector store not initialized. Run setup_rag_system() first.\")\n",
    "        return\n",
    "    \n",
    "    print(f\"\\n🤔 Question: {question}\")\n",
    "    print(\"-\" * 60)\n",
    "    \n",
    "    result = query_rag_system(question, vector_store, k=3, use_groq=True)\n",
    "    \n",
    "    if \"error\" in result:\n",
    "        print(f\"❌ Error: {result['error']}\")\n",
    "        return\n",
    "    \n",
    "    print(f\"🤖 AI Answer:\")\n",
    "    print(result['ai_answer'])\n",
    "    \n",
    "    if detailed:\n",
    "        print(f\"\\n📊 Details:\")\n",
    "        print(f\"  • Sources: {', '.join(set(result['sources']))}\")\n",
    "        print(f\"  • Chunks used: {result['num_chunks']}\")\n",
    "        print(f\"  • Similarity scores: {[f'{score:.3f}' for score in result['similarity_scores']]}\")\n",
    "        \n",
    "        print(f\"\\n📄 Retrieved chunks preview:\")\n",
    "        for i, chunk in enumerate(result['retrieved_chunks']):\n",
    "            print(f\"  Chunk {i+1}: {chunk}\")\n",
    "    \n",
    "    return result"
   ]
  },
  {
   "cell_type": "markdown",
   "id": "460140cf",
   "metadata": {},
   "source": [
    "# Initialize the System"
   ]
  },
  {
   "cell_type": "code",
   "execution_count": 11,
   "id": "d2746846",
   "metadata": {},
   "outputs": [
    {
     "name": "stdout",
     "output_type": "stream",
     "text": [
      "🎯 RAG System Ready to Initialize!\n",
      "\n",
      "To get started, run:\n",
      "vector_store, embedding_model = setup_rag_system()\n",
      "\n",
      "Then ask questions with:\n",
      "ask_question(\"How are HOA board elections conducted?\")\n"
     ]
    }
   ],
   "source": [
    "print(\"🎯 RAG System Ready to Initialize!\")\n",
    "print(\"\\nTo get started, run:\")\n",
    "print(\"vector_store, embedding_model = setup_rag_system()\")\n",
    "print(\"\\nThen ask questions with:\")\n",
    "print('ask_question(\"How are HOA board elections conducted?\")')"
   ]
  },
  {
   "cell_type": "code",
   "execution_count": 12,
   "id": "b4f1fc22",
   "metadata": {},
   "outputs": [
    {
     "name": "stdout",
     "output_type": "stream",
     "text": [
      "🚀 Initializing RAG System...\n",
      "🖥️ Using device: cuda\n",
      "📁 Loading existing Chroma database...\n"
     ]
    },
    {
     "name": "stderr",
     "output_type": "stream",
     "text": [
      "C:\\Users\\default.LAPTOP-4HP0OBME\\AppData\\Local\\Temp\\ipykernel_31440\\3610623323.py:30: LangChainDeprecationWarning: The class `Chroma` was deprecated in LangChain 0.2.9 and will be removed in 1.0. An updated version of the class exists in the :class:`~langchain-chroma package and should be used instead. To use it run `pip install -U :class:`~langchain-chroma` and import as `from :class:`~langchain_chroma import Chroma``.\n",
      "  vector_store = Chroma(\n"
     ]
    },
    {
     "name": "stdout",
     "output_type": "stream",
     "text": [
      "✅ RAG System ready!\n"
     ]
    }
   ],
   "source": [
    " vector_store, embedding_model = setup_rag_system(chunk_config=\"default\", force_rebuild=False)"
   ]
  },
  {
   "cell_type": "markdown",
   "id": "61aa8f32",
   "metadata": {},
   "source": [
    "# Example Questions "
   ]
  },
  {
   "cell_type": "code",
   "execution_count": 15,
   "id": "ebeee9fe",
   "metadata": {},
   "outputs": [
    {
     "name": "stdout",
     "output_type": "stream",
     "text": [
      "\n",
      "🤔 Question: for Highland view How are HOA board elections conducted?\n",
      "------------------------------------------------------------\n",
      "🤖 AI Answer:\n",
      "Based on the provided context from the HVIE Bylaws and CCRs, the information available suggests that the HOA board elections are not explicitly described in the documents. However, we can infer some general information about the voting process.\n",
      "\n",
      "According to Section 4.02 of the HVIE Bylaws, only Members of the Association are entitled to vote, and the voting privileges of each class of Members are as provided herein. Class A Members have one vote for each Lot in Highland View that the Member owns, and a Class A Member who has sold their property to a contract purchaser under an agreement to purchase shall delegate to such contract purchaser, by proxy, their membership rights in the Association (Source 1 and Source 2).\n",
      "\n",
      "Additionally, Section 3.04 of the HVIE CCRs Amended 12.17.1999 mentions that the Association shall have two classes of voting membership: Class A Members and Class B Members. The voting rights and other privileges of both classes of membership are not explicitly described in the provided documents (Source 3).\n",
      "\n",
      "It appears that the documents do not provide detailed information on how HOA board elections are conducted, such as the election process, eligibility criteria, or term lengths. It is possible that this information is contained in other documents, such as the Association's governing documents or meeting minutes, which are not provided in the context.\n",
      "\n",
      "In summary, while we can infer some general information about voting rights and membership classes, the provided documents do not provide a comprehensive description of how HOA board elections are conducted in Highland View. Further information may be necessary to answer this question accurately.\n"
     ]
    },
    {
     "data": {
      "text/plain": [
       "{'question': 'for Highland view How are HOA board elections conducted?',\n",
       " 'ai_answer': \"Based on the provided context from the HVIE Bylaws and CCRs, the information available suggests that the HOA board elections are not explicitly described in the documents. However, we can infer some general information about the voting process.\\n\\nAccording to Section 4.02 of the HVIE Bylaws, only Members of the Association are entitled to vote, and the voting privileges of each class of Members are as provided herein. Class A Members have one vote for each Lot in Highland View that the Member owns, and a Class A Member who has sold their property to a contract purchaser under an agreement to purchase shall delegate to such contract purchaser, by proxy, their membership rights in the Association (Source 1 and Source 2).\\n\\nAdditionally, Section 3.04 of the HVIE CCRs Amended 12.17.1999 mentions that the Association shall have two classes of voting membership: Class A Members and Class B Members. The voting rights and other privileges of both classes of membership are not explicitly described in the provided documents (Source 3).\\n\\nIt appears that the documents do not provide detailed information on how HOA board elections are conducted, such as the election process, eligibility criteria, or term lengths. It is possible that this information is contained in other documents, such as the Association's governing documents or meeting minutes, which are not provided in the context.\\n\\nIn summary, while we can infer some general information about voting rights and membership classes, the provided documents do not provide a comprehensive description of how HOA board elections are conducted in Highland View. Further information may be necessary to answer this question accurately.\",\n",
       " 'sources': ['HVIE Bylaws.pdf',\n",
       "  'HVIE Bylaws.pdf',\n",
       "  'HVIE CCRs Amended 12.17.1999.pdf'],\n",
       " 'similarity_scores': [0.7173647284507751,\n",
       "  0.7173646688461304,\n",
       "  0.703919529914856],\n",
       " 'retrieved_chunks': ['3\\n7734/6454/CCS/00208846. WPD;2 10/6/99\\nSection 4.02. Voting Rights of Classes.\\n(a) Members Entitled to Vote. Only Members of the Association shall be\\nentitled to vote. The voting privileges of each c...',\n",
       "  '3\\n7734/6454/CCS/00208846. WPD;2 10/6/99\\nSection 4.02. Voting Rights of Classes.\\n(a) Members Entitled to Vote. Only Members of the Association shall be\\nentitled to vote. The voting privileges of each c...',\n",
       "  'Section 3.04. Membership Voting.\\n(a) Commencement of Voting Rights. Unless the sale of Lots within Highland\\nView is subject to a subsidization plan, approved by the California Commissioner of Real\\nEst...'],\n",
       " 'num_chunks': 3}"
      ]
     },
     "execution_count": 15,
     "metadata": {},
     "output_type": "execute_result"
    }
   ],
   "source": [
    "# Ask a question with a clean, formatted response\n",
    "ask_question(\"For Highland view How are HOA board elections conducted?\")"
   ]
  },
  {
   "cell_type": "code",
   "execution_count": 16,
   "id": "5eb31733",
   "metadata": {},
   "outputs": [
    {
     "name": "stdout",
     "output_type": "stream",
     "text": [
      "\n",
      "🤔 Question: What are the voting requirements for board meetings at Cardigan?\n",
      "------------------------------------------------------------\n",
      "🤖 AI Answer:\n",
      "Based on the provided context from the Cardigan - Election Rules.pdf documents, the voting requirements for board meetings at Cardigan are as follows:\n",
      "\n",
      "1. Each Member shall be entitled to cast a number of votes equal to the number of Directors to be elected multiplied by the number of Lots owned by that Member (Source 2, Section 5).\n",
      "2. Members may cumulate their votes, but this provision may be amended by the Association's Bylaws to prohibit cumulative voting (Source 2, Section 5).\n",
      "3. In the event of a general power of attorney, a ballot may be cast by a person with such power, and the ballot must be returned in a timely manner to be counted (Source 2, Section 6.3).\n",
      "\n",
      "Regarding the voting process, the documents do not provide detailed information on the voting requirements for board meetings. However, they do mention the two-envelope system, which includes:\n",
      "\n",
      "* A smaller envelope containing the ballot, which must be placed inside a larger envelope (Source 3, Section 7.1.2).\n",
      "* The larger envelope must be pre-addressed to the Inspector(s) of Elections, Cardigan Maintenance Corporation, and must contain the Member's name, address, and Lot number, as well as a place for the Member's signature (Source 3, Section 7.1.3).\n",
      "* The envelope must also include instructions on how to use the two-envelope system, notice of the date, time, and location of the meeting where the ballots will be opened and tabulated, and a copy of the Voting and Election Rules (Source 3, Section 7.1.4-7.1.5).\n",
      "\n",
      "It appears that the documents do not provide specific information on the voting requirements for board meetings, such as the quorum requirements or the procedures for voting in person or by proxy. Therefore, it is possible that additional information may be available in other documents or bylaws that are not provided in the context.\n",
      "\n",
      "📊 Details:\n",
      "  • Sources: Cardigan - Election Rules.pdf\n",
      "  • Chunks used: 3\n",
      "  • Similarity scores: ['0.769', '0.738', '0.734']\n",
      "\n",
      "📄 Retrieved chunks preview:\n",
      "  Chunk 1: CARDIGAN MAINTENANCE CORPORATION\n",
      "VOTING AND ELECTION RULES\n",
      "1. General.\n",
      "1.1 These Rules are intended to comply with Civil Code sections 5100 through 5130 and\n",
      "shall apply to Member voting: (1) to elect ...\n",
      "  Chunk 2: Member shall be entitled to cast a number of votes equal to the number of Directors to\n",
      "be elected multiplied by the number of Lots owned by that Member, and each Member\n",
      "© 2022 Hughes Gill Cochrane Tin...\n",
      "  Chunk 3: identifying the voter. The larger (outer) envelope shall be pre-addressed to the\n",
      "Inspector(s) of Elections, Cardigan Maintenance Corporation. The upper left\n",
      "corner of the larger envelope shall contain...\n"
     ]
    },
    {
     "data": {
      "text/plain": [
       "{'question': 'What are the voting requirements for board meetings at Cardigan?',\n",
       " 'ai_answer': \"Based on the provided context from the Cardigan - Election Rules.pdf documents, the voting requirements for board meetings at Cardigan are as follows:\\n\\n1. Each Member shall be entitled to cast a number of votes equal to the number of Directors to be elected multiplied by the number of Lots owned by that Member (Source 2, Section 5).\\n2. Members may cumulate their votes, but this provision may be amended by the Association's Bylaws to prohibit cumulative voting (Source 2, Section 5).\\n3. In the event of a general power of attorney, a ballot may be cast by a person with such power, and the ballot must be returned in a timely manner to be counted (Source 2, Section 6.3).\\n\\nRegarding the voting process, the documents do not provide detailed information on the voting requirements for board meetings. However, they do mention the two-envelope system, which includes:\\n\\n* A smaller envelope containing the ballot, which must be placed inside a larger envelope (Source 3, Section 7.1.2).\\n* The larger envelope must be pre-addressed to the Inspector(s) of Elections, Cardigan Maintenance Corporation, and must contain the Member's name, address, and Lot number, as well as a place for the Member's signature (Source 3, Section 7.1.3).\\n* The envelope must also include instructions on how to use the two-envelope system, notice of the date, time, and location of the meeting where the ballots will be opened and tabulated, and a copy of the Voting and Election Rules (Source 3, Section 7.1.4-7.1.5).\\n\\nIt appears that the documents do not provide specific information on the voting requirements for board meetings, such as the quorum requirements or the procedures for voting in person or by proxy. Therefore, it is possible that additional information may be available in other documents or bylaws that are not provided in the context.\",\n",
       " 'sources': ['Cardigan - Election Rules.pdf',\n",
       "  'Cardigan - Election Rules.pdf',\n",
       "  'Cardigan - Election Rules.pdf'],\n",
       " 'similarity_scores': [0.769258588552475,\n",
       "  0.7376928925514221,\n",
       "  0.7336122393608093],\n",
       " 'retrieved_chunks': ['CARDIGAN MAINTENANCE CORPORATION\\nVOTING AND ELECTION RULES\\n1. General.\\n1.1 These Rules are intended to comply with Civil Code sections 5100 through 5130 and\\nshall apply to Member voting: (1) to elect ...',\n",
       "  'Member shall be entitled to cast a number of votes equal to the number of Directors to\\nbe elected multiplied by the number of Lots owned by that Member, and each Member\\n© 2022 Hughes Gill Cochrane Tin...',\n",
       "  'identifying the voter. The larger (outer) envelope shall be pre-addressed to the\\nInspector(s) of Elections, Cardigan Maintenance Corporation. The upper left\\ncorner of the larger envelope shall contain...'],\n",
       " 'num_chunks': 3}"
      ]
     },
     "execution_count": 16,
     "metadata": {},
     "output_type": "execute_result"
    }
   ],
   "source": [
    "# Ask a question and see detailed metrics\n",
    "ask_question(\"What are the voting requirements for board meetings at Cardigan?\", detailed=True)"
   ]
  }
 ],
 "metadata": {
  "kernelspec": {
   "display_name": "Python 3",
   "language": "python",
   "name": "python3"
  },
  "language_info": {
   "codemirror_mode": {
    "name": "ipython",
    "version": 3
   },
   "file_extension": ".py",
   "mimetype": "text/x-python",
   "name": "python",
   "nbconvert_exporter": "python",
   "pygments_lexer": "ipython3",
   "version": "3.11.9"
  }
 },
 "nbformat": 4,
 "nbformat_minor": 5
}
